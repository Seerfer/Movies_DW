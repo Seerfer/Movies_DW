{
 "cells": [
  {
   "cell_type": "code",
   "execution_count": 1,
   "id": "b6abc8a5-d21d-4b31-b654-375781be6c6d",
   "metadata": {},
   "outputs": [],
   "source": [
    "import os\n",
    "import shutil\n",
    "\n",
    "import duckdb"
   ]
  },
  {
   "cell_type": "code",
   "execution_count": 10,
   "id": "79e6215b-ad76-476d-9df5-3ff3b52a77b4",
   "metadata": {},
   "outputs": [
    {
     "data": {
      "application/vnd.jupyter.widget-view+json": {
       "model_id": "6bcabaf442eb4e5cab4caf2f004f3c3a",
       "version_major": 2,
       "version_minor": 0
      },
      "text/plain": [
       "FloatProgress(value=0.0, layout=Layout(width='auto'), style=ProgressStyle(bar_color='black'))"
      ]
     },
     "metadata": {},
     "output_type": "display_data"
    }
   ],
   "source": [
    "\n",
    "duckdb.sql(\"\"\"\n",
    "    COPY \n",
    "        (SELECT *, replace(title, '/', '_') AS p_title FROM 'data/landing_zone/revenues_per_day.csv') \n",
    "    TO 'data/transformed/revenues_per_day' \n",
    "    (FORMAT PARQUET, PARTITION_BY (p_title))\"\"\"\n",
    "    )\n"
   ]
  },
  {
   "cell_type": "code",
   "execution_count": 55,
   "id": "68c5b744-334d-4855-9277-1e4696d01650",
   "metadata": {},
   "outputs": [],
   "source": [
    " movies_details = duckdb.sql(\"\"\"SELECT \n",
    "                            Title,\n",
    "                            TRY_CAST(try_strptime(Released, '%d %b %Y') AS DATE) as Released,\n",
    "                            TRY_CAST(replace(Runtime, ' min', '') AS INT) as Runtime,\n",
    "                            Rated,\n",
    "                            list_sort(\n",
    "                                list_transform(\n",
    "                                    string_split(Director, ','),\n",
    "                                    s -> trim(s))\n",
    "                                ) AS Director,\n",
    "                            list_sort(\n",
    "                                list_transform(\n",
    "                                    string_split(Genre, ','),\n",
    "                                    s -> trim(s))\n",
    "                                ) AS Genre,\n",
    "                            list_sort(\n",
    "                                list_transform(\n",
    "                                    string_split(Writer, ','),\n",
    "                                    s -> trim(s))\n",
    "                                ) AS Writer,\n",
    "                            list_sort(\n",
    "                                list_transform(\n",
    "                                    string_split(Actors, ','),\n",
    "                                    s -> trim(s))\n",
    "                                ) AS Actors,\n",
    "                            list_sort(\n",
    "                                list_transform(\n",
    "                                    string_split(Language, ','),\n",
    "                                    s -> trim(s))\n",
    "                                ) AS Language,\n",
    "                            list_sort(\n",
    "                                list_transform(\n",
    "                                    string_split(Country, ','),\n",
    "                                    s -> trim(s))\n",
    "                                ) AS Country,\n",
    "                            Plot,\n",
    "                            TRY_CAST(Metascore AS INT) AS Metascore,\n",
    "                            TRY_CAST(imdbRating AS DOUBLE) AS imdbRating,\n",
    "                            TRY_CAST(replace(imdbVotes, ',', '') AS INT) AS imdbVotes,\n",
    "                            TRY_CAST(replace(replace(BoxOffice, ',', ''), '$','') as INT) as BoxOffice\n",
    "                            FROM 'data/landing_zone/movies_details.json'\"\"\")\n",
    "\n",
    "\n",
    "duckdb.sql(\"\"\"\n",
    "    COPY movies_details \n",
    "    TO 'data/transformed/movies_details' \n",
    "    (FORMAT PARQUET)\"\"\")"
   ]
  }
 ],
 "metadata": {
  "kernelspec": {
   "display_name": "Python 3 (ipykernel)",
   "language": "python",
   "name": "python3"
  },
  "language_info": {
   "codemirror_mode": {
    "name": "ipython",
    "version": 3
   },
   "file_extension": ".py",
   "mimetype": "text/x-python",
   "name": "python",
   "nbconvert_exporter": "python",
   "pygments_lexer": "ipython3",
   "version": "3.10.12"
  }
 },
 "nbformat": 4,
 "nbformat_minor": 5
}
