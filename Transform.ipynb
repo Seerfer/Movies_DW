{
 "cells": [
  {
   "cell_type": "code",
   "execution_count": 1,
   "id": "b6abc8a5-d21d-4b31-b654-375781be6c6d",
   "metadata": {},
   "outputs": [],
   "source": [
    "import os\n",
    "import shutil\n",
    "\n",
    "import duckdb"
   ]
  },
  {
   "cell_type": "code",
   "execution_count": 2,
   "id": "2a1578b5-06eb-4230-90ad-e750ad3d5e1f",
   "metadata": {},
   "outputs": [],
   "source": [
    "\n",
    "duckdb.sql(\"\"\"SET memory_limit = '16GB';\"\"\")"
   ]
  },
  {
   "cell_type": "code",
   "execution_count": 3,
   "id": "79e6215b-ad76-476d-9df5-3ff3b52a77b4",
   "metadata": {},
   "outputs": [
    {
     "data": {
      "application/vnd.jupyter.widget-view+json": {
       "model_id": "ee0542b3b8734790b5838ac089b1e3ba",
       "version_major": 2,
       "version_minor": 0
      },
      "text/plain": [
       "FloatProgress(value=0.0, layout=Layout(width='auto'), style=ProgressStyle(bar_color='black'))"
      ]
     },
     "metadata": {},
     "output_type": "display_data"
    }
   ],
   "source": [
    "\n",
    "duckdb.sql(\"\"\"\n",
    "    COPY \n",
    "        (SELECT *, replace(title, '/', '_') AS p_title FROM 'data/landing_zone/revenues_per_day.csv') \n",
    "    TO 'data/transformed/revenues_per_day' \n",
    "    (FORMAT PARQUET, PARTITION_BY (p_title))\"\"\"\n",
    "    )\n"
   ]
  },
  {
   "cell_type": "code",
   "execution_count": 4,
   "id": "68c5b744-334d-4855-9277-1e4696d01650",
   "metadata": {},
   "outputs": [
    {
     "data": {
      "application/vnd.jupyter.widget-view+json": {
       "model_id": "bf248678a9454c6ab13fa42250eb0d37",
       "version_major": 2,
       "version_minor": 0
      },
      "text/plain": [
       "FloatProgress(value=0.0, layout=Layout(width='auto'), style=ProgressStyle(bar_color='black'))"
      ]
     },
     "metadata": {},
     "output_type": "display_data"
    }
   ],
   "source": [
    "from datetime import datetime\n",
    "from datetime import date\n",
    "\n",
    "functions = [r[0] for r in duckdb.sql(\"\"\"\n",
    "SELECT function_name\n",
    "FROM duckdb_functions()\n",
    "WHERE function_type = 'scalar'\n",
    "\"\"\").fetchall() ]\n",
    "\n",
    "\n",
    "def split_to_list(s: str) -> list[str]:\n",
    "    return [el.strip() for el in s.split(\",\")]\n",
    "if 'split_to_list' not in functions:\n",
    "    duckdb.create_function(\"split_to_list\", split_to_list)\n",
    "\n",
    "\n",
    "def date_transform(d: str) -> str:\n",
    "    try:\n",
    "        date_object = datetime.strptime(d, \"%d %b %Y\")\n",
    "        formatted_date = date_object.strftime(\"%Y-%m-%d\")\n",
    "        return formatted_date \n",
    "    except:\n",
    "        return None\n",
    "if 'date_transform' not in functions:\n",
    "    duckdb.create_function(\"date_transform\", date_transform)  \n",
    "\n",
    "def runtime_transform(s: str) -> int:\n",
    "    try:\n",
    "        return int(s.replace(' min', ''))\n",
    "    except:\n",
    "        return None\n",
    "if 'runtime_transform' not in functions:\n",
    "    duckdb.create_function(\"runtime_transform\", runtime_transform)  \n",
    "\n",
    "\n",
    "\n",
    "movies_details = duckdb.sql(\"\"\"SELECT \n",
    "                            Title,\n",
    "                            Year,\n",
    "                            TRY_CAST(date_transform(Released) AS DATE) as Released,\n",
    "                            runtime_transform(Runtime) as Runtime,\n",
    "                            Rated,\n",
    "                            list_sort(split_to_list(Director)) AS Director,\n",
    "                            list_sort(split_to_list(Genre)) AS Genre,\n",
    "                            list_sort(split_to_list(Writer)) AS Writer,\n",
    "                            list_sort(split_to_list(Actors)) AS Actors,\n",
    "                            Plot,\n",
    "                            list_sort(split_to_list(Language)) AS Language,\n",
    "                            list_sort(split_to_list(Country)) AS Country,\n",
    "                            TRY_CAST(Metascore AS INT) AS Metascore,\n",
    "                            TRY_CAST(imdbRating AS DOUBLE) AS imdbRating,\n",
    "                            TRY_CAST(replace(imdbVotes, ',', '') AS INT) AS imdbVotes,\n",
    "                            TRY_CAST(replace(replace(BoxOffice, ',', ''), '$','') as INT) as BoxOffice\n",
    "                            FROM 'data/landing_zone/movies_details.json'\"\"\")\n",
    "\n",
    "\n",
    "duckdb.sql(\"\"\"\n",
    "    COPY movies_details \n",
    "    TO 'data/transformed/movies_details' \n",
    "    (FORMAT PARQUET)\"\"\")"
   ]
  }
 ],
 "metadata": {
  "kernelspec": {
   "display_name": "Python 3 (ipykernel)",
   "language": "python",
   "name": "python3"
  },
  "language_info": {
   "codemirror_mode": {
    "name": "ipython",
    "version": 3
   },
   "file_extension": ".py",
   "mimetype": "text/x-python",
   "name": "python",
   "nbconvert_exporter": "python",
   "pygments_lexer": "ipython3",
   "version": "3.10.12"
  }
 },
 "nbformat": 4,
 "nbformat_minor": 5
}
