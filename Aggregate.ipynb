{
 "cells": [
  {
   "cell_type": "code",
   "execution_count": 1,
   "id": "1423de4d-5ff9-483f-9fca-d77c58c25ad1",
   "metadata": {},
   "outputs": [],
   "source": [
    "import duckdb"
   ]
  },
  {
   "cell_type": "code",
   "execution_count": 2,
   "id": "19783396-3e42-4b0d-a4bd-d32e6df8939f",
   "metadata": {},
   "outputs": [],
   "source": [
    "movies_details = duckdb.read_parquet(\"data/transformed/movies_details\")\n",
    "movies_revenue = duckdb.read_parquet(\"data/transformed/**/*.parquet\")"
   ]
  },
  {
   "cell_type": "markdown",
   "id": "5f6f9fd3-f34c-46ad-8466-822ded817520",
   "metadata": {},
   "source": [
    "\n",
    "## Creating Genre tables"
   ]
  },
  {
   "cell_type": "code",
   "execution_count": 3,
   "id": "d323f417-a495-4560-94b5-c69aadbc11b3",
   "metadata": {},
   "outputs": [],
   "source": [
    "dim_genre = duckdb.sql(\"\"\"select genre, \n",
    "                                row_number() over() as genre_id\n",
    "                        from (select distinct unnest(genre) as genre from movies_details)\"\"\")\n",
    "\n",
    "\n",
    "\n",
    "dim_genre_group = duckdb.sql(\"\"\" select md5(array_to_string(Genre, '#')) as genre_group_id \n",
    "                                from (select distinct genre from movies_details)\"\"\")\n",
    "\n",
    "\n",
    "\n",
    "genre_groups = duckdb.sql(\"\"\"select distinct genre as genre_group from movies_details\"\"\")\n",
    "genre_groups_unnested = duckdb.sql(\"\"\"select unnest(genre_group) as genre,\n",
    "                                        array_to_string(genre_group, '#') as genre_group,\n",
    "                                        md5(array_to_string(genre_group, '#')) as genre_group_id\n",
    "                                    from genre_groups\"\"\")\n",
    "genre_bridge = duckdb.sql(\"\"\"select genre_group_id,\n",
    "                            genre_id,\n",
    "                            genre_group\n",
    "                            from genre_groups_unnested\n",
    "                            LEFT JOIN dim_genre using (genre)\"\"\")\n",
    "\n",
    "\n",
    "tables_to_save = ['dim_genre_group', 'genre_bridge', 'dim_genre']\n",
    "for t in tables_to_save:\n",
    "    duckdb.sql(f\"\"\"\n",
    "        COPY \n",
    "            {t} \n",
    "        TO 'data/aggregated/{t}' \n",
    "        (FORMAT PARQUET, overwrite_or_ignore)\"\"\")"
   ]
  },
  {
   "cell_type": "markdown",
   "id": "2ce1a1ea-4bf9-420a-8f58-ba468fe59913",
   "metadata": {},
   "source": [
    "## Creating Actors tables"
   ]
  },
  {
   "cell_type": "code",
   "execution_count": 4,
   "id": "aa791243-0d06-4b51-9066-5c4f7079d454",
   "metadata": {},
   "outputs": [],
   "source": [
    "dim_actor = duckdb.sql(\"\"\"select actor, \n",
    "                                row_number() over() as actor_id\n",
    "                        from (select distinct unnest(Actors) as actor from movies_details)\"\"\")\n",
    "\n",
    "\n",
    "\n",
    "dim_actor_group = duckdb.sql(\"\"\"select md5(array_to_string(Actors, '#')) as actors_group_id \n",
    "                                from (select distinct actors from movies_details)\"\"\")\n",
    "\n",
    "\n",
    "\n",
    "actor_groups = duckdb.sql(\"\"\"select distinct actors as actors_group from movies_details\"\"\")\n",
    "actor_groups_unnested = duckdb.sql(\"\"\"select unnest(actors_group) as actor,\n",
    "                                        array_to_string(actors_group, '#') as actors_group,\n",
    "                                        md5(array_to_string(actors_group, '#')) as actors_group_id\n",
    "                                    from actor_groups\"\"\")\n",
    "actor_bridge = duckdb.sql(\"\"\"select actors_group_id,\n",
    "                            actor_id,\n",
    "                            actors_group\n",
    "                            from actor_groups_unnested\n",
    "                            LEFT JOIN dim_actor using (actor)\"\"\")\n",
    "tables_to_save = ['dim_actor_group', 'actor_bridge', 'dim_actor']\n",
    "for t in tables_to_save:\n",
    "    duckdb.sql(f\"\"\"\n",
    "        COPY \n",
    "            {t} \n",
    "        TO 'data/aggregated/{t}' \n",
    "        (FORMAT PARQUET, overwrite_or_ignore)\"\"\")"
   ]
  },
  {
   "cell_type": "markdown",
   "id": "8fa735e8-2ca6-4263-902e-9b243c39ab8e",
   "metadata": {},
   "source": [
    "## Creating Actors tables"
   ]
  },
  {
   "cell_type": "code",
   "execution_count": 5,
   "id": "52d0b87a-dee5-45f7-90c1-86fffad699de",
   "metadata": {},
   "outputs": [],
   "source": [
    "dim_language = duckdb.sql(\"\"\"select language, \n",
    "                                row_number() over() as language_id\n",
    "                        from (select distinct unnest(Language) as language from movies_details)\"\"\")\n",
    "\n",
    "\n",
    "\n",
    "dim_language_group = duckdb.sql(\"\"\"select md5(array_to_string(Language, '#')) as language_group_id \n",
    "                                from (select distinct language from movies_details)\"\"\")\n",
    "\n",
    "\n",
    "\n",
    "language_groups = duckdb.sql(\"\"\"select distinct language as language_group from movies_details\"\"\")\n",
    "language_groups_unnested = duckdb.sql(\"\"\"select unnest(language_group) as language,\n",
    "                                        array_to_string(language_group, '#') as language_group,\n",
    "                                        md5(array_to_string(language_group, '#')) as language_group_id\n",
    "                                    from language_groups\"\"\")\n",
    "language_bridge = duckdb.sql(\"\"\"select language_group_id,\n",
    "                            language_id,\n",
    "                            language_group\n",
    "                            from language_groups_unnested\n",
    "                            LEFT JOIN dim_language using (language)\"\"\")\n",
    "tables_to_save = ['dim_language_group', 'language_bridge', 'dim_language']\n",
    "for t in tables_to_save:\n",
    "    duckdb.sql(f\"\"\"\n",
    "        COPY \n",
    "            {t} \n",
    "        TO 'data/aggregated/{t}' \n",
    "        (FORMAT PARQUET, overwrite_or_ignore)\"\"\")"
   ]
  },
  {
   "cell_type": "code",
   "execution_count": 6,
   "id": "791470a0-b3ea-4e74-b4c2-b5f5765ca125",
   "metadata": {},
   "outputs": [],
   "source": [
    "## Creating Director tables"
   ]
  },
  {
   "cell_type": "code",
   "execution_count": 7,
   "id": "7a4641bb-794e-4157-b51d-d4fe312d348d",
   "metadata": {},
   "outputs": [],
   "source": [
    "dim_director = duckdb.sql(\"\"\"select director, \n",
    "                                row_number() over() as director_id\n",
    "                        from (select distinct unnest(director) as director from movies_details)\"\"\")\n",
    "\n",
    "\n",
    "\n",
    "dim_director_group = duckdb.sql(\"\"\"select md5(array_to_string(Director, '#')) as director_group_id \n",
    "                                from (select distinct director from movies_details)\"\"\")\n",
    "\n",
    "\n",
    "\n",
    "director_groups = duckdb.sql(\"\"\"select distinct director as director_group from movies_details\"\"\")\n",
    "director_groups_unnested = duckdb.sql(\"\"\"select unnest(director_group) as director,\n",
    "                                        array_to_string(director_group, '#') as director_group,\n",
    "                                        md5(array_to_string(director_group, '#')) as director_group_id\n",
    "                                    from director_groups\"\"\")\n",
    "director_bridge = duckdb.sql(\"\"\"select director_group_id,\n",
    "                            director_id,\n",
    "                            director_group\n",
    "                            from director_groups_unnested\n",
    "                            LEFT JOIN dim_director using (director)\"\"\")\n",
    "\n",
    "\n",
    "tables_to_save = ['dim_director_group', 'director_bridge', 'dim_director']\n",
    "for t in tables_to_save:\n",
    "    duckdb.sql(f\"\"\"\n",
    "        COPY \n",
    "            {t} \n",
    "        TO 'data/aggregated/{t}' \n",
    "        (FORMAT PARQUET, overwrite_or_ignore)\"\"\")"
   ]
  },
  {
   "cell_type": "markdown",
   "id": "727b12f1-ef69-4962-a215-ff29298df2f4",
   "metadata": {},
   "source": [
    "## Creating Director tables"
   ]
  },
  {
   "cell_type": "code",
   "execution_count": 8,
   "id": "c0b1b5a2-2a0e-4fb6-9629-3c5082a0b54a",
   "metadata": {},
   "outputs": [],
   "source": [
    "dim_writer = duckdb.sql(\"\"\"select writer, \n",
    "                                row_number() over() as writer_id\n",
    "                        from (select distinct unnest(writer) as writer from movies_details)\"\"\")\n",
    "\n",
    "\n",
    "\n",
    "dim_writer_group = duckdb.sql(\"\"\"select md5(array_to_string(Writer, '#')) as writer_group_id \n",
    "                                from (select distinct writer from movies_details)\"\"\")\n",
    "\n",
    "\n",
    "\n",
    "writer_groups = duckdb.sql(\"\"\"select distinct writer as writer_group from movies_details\"\"\")\n",
    "writer_groups_unnested = duckdb.sql(\"\"\"select unnest(writer_group) as writer,\n",
    "                                        array_to_string(writer_group, '#') as writer_group,\n",
    "                                        md5(array_to_string(writer_group, '#')) as writer_group_id\n",
    "                                    from writer_groups\"\"\")\n",
    "writer_bridge = duckdb.sql(\"\"\"select writer_group_id,\n",
    "                            writer_id,\n",
    "                            writer_group\n",
    "                            from writer_groups_unnested\n",
    "                            LEFT JOIN dim_writer using (writer)\"\"\")\n",
    "\n",
    "\n",
    "tables_to_save = ['dim_writer_group', 'writer_bridge', 'dim_writer']\n",
    "for t in tables_to_save:\n",
    "    duckdb.sql(f\"\"\"\n",
    "        COPY \n",
    "            {t} \n",
    "        TO 'data/aggregated/{t}' \n",
    "        (FORMAT PARQUET, overwrite_or_ignore)\"\"\")\n"
   ]
  },
  {
   "cell_type": "markdown",
   "id": "bb3d6137-eb69-401b-9add-0d6c2953e49e",
   "metadata": {},
   "source": [
    "## Creating Director tables"
   ]
  },
  {
   "cell_type": "code",
   "execution_count": 9,
   "id": "554302ea-365a-4341-ade7-2c87a9054d72",
   "metadata": {},
   "outputs": [],
   "source": [
    "dim_country = duckdb.sql(\"\"\"select country, \n",
    "                                row_number() over() as country_id\n",
    "                        from (select distinct unnest(country) as country from movies_details)\"\"\")\n",
    "\n",
    "\n",
    "\n",
    "dim_country_group = duckdb.sql(\"\"\"select md5(array_to_string(Country, '#')) as country_group_id \n",
    "                                from (select distinct country from movies_details)\"\"\")\n",
    "\n",
    "\n",
    "\n",
    "country_groups = duckdb.sql(\"\"\"select distinct country as country_group from movies_details\"\"\")\n",
    "country_groups_unnested = duckdb.sql(\"\"\"select unnest(country_group) as country,\n",
    "                                        array_to_string(country_group, '#') as country_group,\n",
    "                                        md5(array_to_string(country_group, '#')) as country_group_id\n",
    "                                    from country_groups\"\"\")\n",
    "country_bridge = duckdb.sql(\"\"\"select country_group_id,\n",
    "                            country_id,\n",
    "                            country_group\n",
    "                            from country_groups_unnested\n",
    "                            LEFT JOIN dim_country using (country)\"\"\")\n",
    "\n",
    "\n",
    "tables_to_save = ['dim_country_group', 'country_bridge', 'dim_country']\n",
    "for t in tables_to_save:\n",
    "    duckdb.sql(f\"\"\"\n",
    "        COPY \n",
    "            {t} \n",
    "        TO 'data/aggregated/{t}' \n",
    "        (FORMAT PARQUET, overwrite_or_ignore)\"\"\")\n"
   ]
  },
  {
   "cell_type": "code",
   "execution_count": 10,
   "id": "828b4101-94d1-4685-b142-7705f64442d5",
   "metadata": {},
   "outputs": [],
   "source": [
    "from_date = '1990-01-01'\n",
    "to_date = '2030-01-01'\n",
    "\n",
    "date_range = duckdb.sql(f\"select CAST('{from_date}' AS date) as start_date, CAST('{to_date}' AS date) as end_date\")\n",
    "dates = duckdb.sql(\"select unnest(generate_series(start_date, end_date, interval '1 day')) as date from date_range\")\n",
    "dim_date = duckdb.sql(f\"\"\"\n",
    "    SELECT\n",
    "        date_diff('day', DATE '{from_date}', CAST(date AS date)) as date_id,\n",
    "        CAST(date AS date) as DATE,\n",
    "        monthname(date) as month_name,\n",
    "        dayname(date) as day_name\n",
    "    FROM dates\n",
    "\"\"\")\n",
    "\n",
    "\n",
    "duckdb.sql(\"\"\"\n",
    "    COPY \n",
    "        dim_date \n",
    "    TO 'data/aggregated/dim_date' \n",
    "    (FORMAT PARQUET, overwrite_or_ignore)\"\"\")\n",
    "\n",
    "                      "
   ]
  },
  {
   "cell_type": "code",
   "execution_count": 11,
   "id": "64c22148-5e4a-4339-a73a-bb4bda04de1a",
   "metadata": {},
   "outputs": [
    {
     "data": {
      "application/vnd.jupyter.widget-view+json": {
       "model_id": "fdc7ee6c2c514d5fa0ba6feca058be4c",
       "version_major": 2,
       "version_minor": 0
      },
      "text/plain": [
       "FloatProgress(value=0.0, layout=Layout(width='auto'), style=ProgressStyle(bar_color='black'))"
      ]
     },
     "metadata": {},
     "output_type": "display_data"
    }
   ],
   "source": [
    "dim_distributor = duckdb.sql(\"select distinct distributor, row_number() over() as distributor_id from movies_revenue\")\n",
    "\n",
    "duckdb.sql(\"\"\"\n",
    "    COPY  \n",
    "        dim_distributor \n",
    "    TO 'data/aggregated/dim_distributor' \n",
    "    (FORMAT PARQUET, overwrite_or_ignore)\"\"\")"
   ]
  },
  {
   "cell_type": "code",
   "execution_count": 12,
   "id": "73e09ed0-3860-4fcd-80b9-e90456a2fae9",
   "metadata": {},
   "outputs": [],
   "source": [
    "movierating_hash_calculation = duckdb.sql(\"\"\"\n",
    "    SELECT *,\n",
    "    md5(array_to_string(Genre, '#')) AS genre_group_id,\n",
    "    md5(array_to_string(Country, '#')) AS country_group_id,\n",
    "    md5(array_to_string(Actors, '#')) AS actor_group_id,\n",
    "    md5(array_to_string(Language, '#')) AS language_group_id,\n",
    "    md5(array_to_string(Director, '#')) AS director_group_id,\n",
    "    md5(array_to_string(Writer, '#')) AS writer_group_id\n",
    "    from movies_details movies\n",
    "\"\"\")\n",
    "fact_movie_raiting = duckdb.sql(\"\"\" \n",
    "    select \n",
    "        Title, \n",
    "        Rated,\n",
    "        date_diff('day', DATE '1990-01-01', CAST(Released AS date)) as release_date_id,\n",
    "        Runtime, Metascore, imdbRating, imdbVotes, BoxOffice,\n",
    "        genre_group_id,\n",
    "        actor_group_id,\n",
    "        country_group_id,\n",
    "        language_group_id,\n",
    "        director_group_id,\n",
    "        writer_group_id\n",
    "    from movierating_hash_calculation\n",
    "\"\"\")\n",
    "duckdb.sql(\"\"\"\n",
    "    COPY \n",
    "        fact_movie_raiting \n",
    "    TO 'data/aggregated/fact_movie_raiting' \n",
    "    (FORMAT PARQUET, overwrite_or_ignore)\"\"\")"
   ]
  },
  {
   "cell_type": "code",
   "execution_count": 16,
   "id": "f48e63db-303b-419e-8837-fdfbf1be8d94",
   "metadata": {},
   "outputs": [],
   "source": [
    "fact_movie_raiting_part_added = duckdb.sql(\"select *, replace(title, '/', '_') as p_title from read_parquet('data/aggregated/fact_movie_raiting')\")\n",
    "fact_movie_revenue = duckdb.sql(\"\"\" \n",
    "    select \n",
    "        id,\n",
    "        revenue.title,\n",
    "        date_diff('day', DATE '1990-01-01', CAST(date AS date)) as date_id,\n",
    "        theaters,\n",
    "        revenue,\n",
    "        distributor_id,\n",
    "        genre_group_id,\n",
    "        actor_group_id,\n",
    "        country_group_id,\n",
    "        language_group_id,\n",
    "        director_group_id,\n",
    "        writer_group_id\n",
    "    from movies_revenue revenue\n",
    "    left join fact_movie_raiting_part_added raiting using (p_title)\n",
    "    left join read_parquet('data/aggregated/dim_distributor') distributor using (distributor)\n",
    "    \n",
    "\"\"\")\n",
    "duckdb.sql(\"\"\"\n",
    "    COPY \n",
    "        fact_movie_revenue \n",
    "    TO 'data/aggregated/fact_movie_revenue' \n",
    "    (FORMAT PARQUET, overwrite_or_ignore)\"\"\")"
   ]
  },
  {
   "cell_type": "code",
   "execution_count": 18,
   "id": "034a7f1f-22ec-4aa6-9287-1068b42099ea",
   "metadata": {},
   "outputs": [
    {
     "name": "stdout",
     "output_type": "stream",
     "text": [
      "┌──────────────────────┬───────────┬─────────────────┬───┬──────────────────────┬──────────────────────┐\n",
      "│        Title         │   Rated   │ release_date_id │ … │  director_group_id   │   writer_group_id    │\n",
      "│       varchar        │  varchar  │      int64      │   │       varchar        │       varchar        │\n",
      "├──────────────────────┼───────────┼─────────────────┼───┼──────────────────────┼──────────────────────┤\n",
      "│ Turbo Kid            │ Not Rated │            9370 │ … │ 329f87d6d17d5ca98f…  │ 329f87d6d17d5ca98f…  │\n",
      "│ Proof of Life        │ R         │            3994 │ … │ 86acc8500fa0121687…  │ 15f0771678e9d3511b…  │\n",
      "│ Lost in Love         │ PG-13     │            7665 │ … │ af7822067cf2c84ce9…  │ d12f0f237f7a45f54e…  │\n",
      "│ Red Tails            │ PG-13     │            8054 │ … │ 91ed63cdfc94adbd7b…  │ a2f717d07f7158e718…  │\n",
      "│ The Man Who Knew I…  │ PG-13     │            9615 │ … │ 8768279dfade97b441…  │ 77ba5707b0c5dd47be…  │\n",
      "│ Ready to Rumble      │ PG-13     │            3749 │ … │ 0e188ab6ad1e57f16e…  │ c74e95bbbaf90b0ad0…  │\n",
      "│ Fairy Tail: Dragon…  │ TV-14     │           10087 │ … │ 30545594096758bfc7…  │ ed5dfcf555f1c15f12…  │\n",
      "│ Slaughterhouse Rulez │ R         │           10728 │ … │ 820c60042567011365…  │ 924d2b37c4660ef745…  │\n",
      "│ American Underdog    │ PG        │           11681 │ … │ 63807cce1dd6704165…  │ 04345e43b4c384843d…  │\n",
      "│ Crawl                │ R         │           10784 │ … │ f972f99a93348d1b97…  │ 6ac99ddf0a662a3f87…  │\n",
      "│   ·                  │ ·         │              ·  │ · │          ·           │          ·           │\n",
      "│   ·                  │ ·         │              ·  │ · │          ·           │          ·           │\n",
      "│   ·                  │ ·         │              ·  │ · │          ·           │          ·           │\n",
      "│ He Named Me Malala   │ PG-13     │            9425 │ … │ 81b8acee5489bb0b69…  │ 942d2c43f331fda23d…  │\n",
      "│ On the Come Up       │ PG-13     │           11953 │ … │ 1bc01408c944300295…  │ 25a565d735af7d2fc7…  │\n",
      "│ Glitter              │ PG-13     │            4281 │ … │ bbe1d85b97a4498a2d…  │ 2b133255c1289fc3bb…  │\n",
      "│ Wish Upon            │ PG-13     │           10056 │ … │ c1cde2772e50b430dc…  │ b3e185b6eeb9592b61…  │\n",
      "│ Big Sur              │ R         │            8705 │ … │ f29e92e267d9ac1c91…  │ 2623d94435a28fb376…  │\n",
      "│ Horrible Bosses      │ R         │            7858 │ … │ 0a6e346c3fb9815eb1…  │ 78bdb07d9fd3951061…  │\n",
      "│ Pray: The Story of…  │ PG        │           11239 │ … │ 2a964c3bb69103a02f…  │ e99f4d03bd8fa76587…  │\n",
      "│ Madagascar           │ PG        │            5653 │ … │ ed59d423c6b5e91253…  │ 49087c3b6b1f19ab55…  │\n",
      "│ Christmas at Maxwe…  │ PG        │            6178 │ … │ cd3abb21577a0de72d…  │ cd3abb21577a0de72d…  │\n",
      "│ Kung Fu Panda 3      │ PG        │            9524 │ … │ fbe5abc294a23c1ead…  │ 70b85c426afcf2d447…  │\n",
      "├──────────────────────┴───────────┴─────────────────┴───┴──────────────────────┴──────────────────────┤\n",
      "│ 1070 rows (20 shown)                                                            14 columns (5 shown) │\n",
      "└──────────────────────────────────────────────────────────────────────────────────────────────────────┘\n",
      "\n"
     ]
    },
    {
     "data": {
      "application/vnd.jupyter.widget-view+json": {
       "model_id": "c72e8eb67542431faba76b9ffe3c47cb",
       "version_major": 2,
       "version_minor": 0
      },
      "text/plain": [
       "FloatProgress(value=0.0, layout=Layout(width='auto'), style=ProgressStyle(bar_color='black'))"
      ]
     },
     "metadata": {},
     "output_type": "display_data"
    },
    {
     "name": "stdout",
     "output_type": "stream",
     "text": [
      "┌──────────────────────┬──────────────────────┬─────────┬───┬──────────────────────┬──────────────────────┐\n",
      "│          id          │        title         │ date_id │ … │  director_group_id   │   writer_group_id    │\n",
      "│       varchar        │       varchar        │  int64  │   │       varchar        │       varchar        │\n",
      "├──────────────────────┼──────────────────────┼─────────┼───┼──────────────────────┼──────────────────────┤\n",
      "│ 6621f3d0-9fda-0559…  │ Valiant              │    5724 │ … │ NULL                 │ NULL                 │\n",
      "│ 38b8c8f5-08cd-3d7f…  │ Mike and Dave Need…  │    9718 │ … │ NULL                 │ NULL                 │\n",
      "│ 38b8c8f5-08cd-3d7f…  │ Mike and Dave Need…  │    9718 │ … │ NULL                 │ NULL                 │\n",
      "│ 38b8c8f5-08cd-3d7f…  │ Mike and Dave Need…  │    9718 │ … │ NULL                 │ NULL                 │\n",
      "│ 38b8c8f5-08cd-3d7f…  │ Mike and Dave Need…  │    9718 │ … │ NULL                 │ NULL                 │\n",
      "│ 38b8c8f5-08cd-3d7f…  │ Mike and Dave Need…  │    9718 │ … │ NULL                 │ NULL                 │\n",
      "│ 38b8c8f5-08cd-3d7f…  │ Mike and Dave Need…  │    9718 │ … │ NULL                 │ NULL                 │\n",
      "│ 38b8c8f5-08cd-3d7f…  │ Mike and Dave Need…  │    9718 │ … │ NULL                 │ NULL                 │\n",
      "│ 38b8c8f5-08cd-3d7f…  │ Mike and Dave Need…  │    9718 │ … │ NULL                 │ NULL                 │\n",
      "│ 38b8c8f5-08cd-3d7f…  │ Mike and Dave Need…  │    9718 │ … │ NULL                 │ NULL                 │\n",
      "│          ·           │       ·              │      ·  │ · │  ·                   │  ·                   │\n",
      "│          ·           │       ·              │      ·  │ · │  ·                   │  ·                   │\n",
      "│          ·           │       ·              │      ·  │ · │  ·                   │  ·                   │\n",
      "│ 461508f6-19b2-24d1…  │ The Longshots        │    6847 │ … │ 5df6ed507c7dac72a5…  │ bf9a08aef7a4a35b32…  │\n",
      "│ 461508f6-19b2-24d1…  │ The Longshots        │    6847 │ … │ 5df6ed507c7dac72a5…  │ bf9a08aef7a4a35b32…  │\n",
      "│ 461508f6-19b2-24d1…  │ The Longshots        │    6847 │ … │ 5df6ed507c7dac72a5…  │ bf9a08aef7a4a35b32…  │\n",
      "│ 461508f6-19b2-24d1…  │ The Longshots        │    6847 │ … │ 5df6ed507c7dac72a5…  │ bf9a08aef7a4a35b32…  │\n",
      "│ 251c920a-48bf-c751…  │ Breaking In          │   10376 │ … │ NULL                 │ NULL                 │\n",
      "│ 251c920a-48bf-c751…  │ Breaking In          │   10376 │ … │ NULL                 │ NULL                 │\n",
      "│ 251c920a-48bf-c751…  │ Breaking In          │   10376 │ … │ NULL                 │ NULL                 │\n",
      "│ 251c920a-48bf-c751…  │ Breaking In          │   10376 │ … │ NULL                 │ NULL                 │\n",
      "│ 251c920a-48bf-c751…  │ Breaking In          │   10376 │ … │ NULL                 │ NULL                 │\n",
      "│ 251c920a-48bf-c751…  │ Breaking In          │   10376 │ … │ NULL                 │ NULL                 │\n",
      "├──────────────────────┴──────────────────────┴─────────┴───┴──────────────────────┴──────────────────────┤\n",
      "│ ? rows (>9999 rows, 20 shown)                                                      12 columns (5 shown) │\n",
      "└─────────────────────────────────────────────────────────────────────────────────────────────────────────┘\n",
      "\n"
     ]
    }
   ],
   "source": [
    "fact_movie_raiting.show()\n",
    "fact_movie_revenue.show()"
   ]
  }
 ],
 "metadata": {
  "kernelspec": {
   "display_name": "Python 3 (ipykernel)",
   "language": "python",
   "name": "python3"
  },
  "language_info": {
   "codemirror_mode": {
    "name": "ipython",
    "version": 3
   },
   "file_extension": ".py",
   "mimetype": "text/x-python",
   "name": "python",
   "nbconvert_exporter": "python",
   "pygments_lexer": "ipython3",
   "version": "3.10.12"
  }
 },
 "nbformat": 4,
 "nbformat_minor": 5
}
