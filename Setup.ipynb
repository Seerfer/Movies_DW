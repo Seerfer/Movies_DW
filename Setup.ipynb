{
 "cells": [
  {
   "cell_type": "code",
   "execution_count": null,
   "id": "a995c9a7-b76d-44b0-b297-18f8251f764f",
   "metadata": {},
   "outputs": [],
   "source": [
    "!pip3 install -r requirements.txt"
   ]
  },
  {
   "cell_type": "code",
   "execution_count": null,
   "id": "659104c3-1d4b-4442-8857-dc30f72880cd",
   "metadata": {},
   "outputs": [],
   "source": [
    "import os\n",
    "\n",
    "def make_dir(directory):\n",
    "    if not os.path.exists(directory):\n",
    "        os.makedirs(directory)\n",
    "\n",
    "for dir in [\"landing_zone\", \"transformed\", \"aggregated\"]:\n",
    "    make_dir(f'data/{dir}')  "
   ]
  },
  {
   "cell_type": "code",
   "execution_count": null,
   "id": "fd2a1917-242f-4f09-9313-657a9d206517",
   "metadata": {},
   "outputs": [],
   "source": [
    "import duckdb\n",
    "\n",
    "duckdb.sql(\"\"\"SET memory_limit = '14GB';\n",
    "            SET enable_progress_bar = true;\n",
    "            SET temp_directory = '/.TMP'\"\"\")\n"
   ]
  }
 ],
 "metadata": {
  "kernelspec": {
   "display_name": "Python 3 (ipykernel)",
   "language": "python",
   "name": "python3"
  },
  "language_info": {
   "codemirror_mode": {
    "name": "ipython",
    "version": 3
   },
   "file_extension": ".py",
   "mimetype": "text/x-python",
   "name": "python",
   "nbconvert_exporter": "python",
   "pygments_lexer": "ipython3",
   "version": "3.10.12"
  }
 },
 "nbformat": 4,
 "nbformat_minor": 5
}
