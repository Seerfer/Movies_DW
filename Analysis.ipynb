{
 "cells": [
  {
   "cell_type": "code",
   "execution_count": null,
   "id": "126d21c7-322d-446b-b294-622484c44a24",
   "metadata": {},
   "outputs": [],
   "source": [
    "import duckdb"
   ]
  },
  {
   "cell_type": "code",
   "execution_count": null,
   "id": "5cebcfd3-ef42-4b7f-a60f-60fbd73d3d07",
   "metadata": {},
   "outputs": [],
   "source": [
    "# Top 10 movies by total revenue \n",
    "duckdb.sql(\"SELECT Title, sum(revenue) FROM 'data/aggregated/fact_movie_revenue'\n",
    "            GROUP BY ALL\")"
   ]
  }
 ],
 "metadata": {
  "kernelspec": {
   "display_name": "Python 3 (ipykernel)",
   "language": "python",
   "name": "python3"
  },
  "language_info": {
   "codemirror_mode": {
    "name": "ipython",
    "version": 3
   },
   "file_extension": ".py",
   "mimetype": "text/x-python",
   "name": "python",
   "nbconvert_exporter": "python",
   "pygments_lexer": "ipython3",
   "version": "3.10.12"
  }
 },
 "nbformat": 4,
 "nbformat_minor": 5
}
