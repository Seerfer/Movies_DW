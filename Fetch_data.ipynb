{
 "cells": [
  {
   "cell_type": "code",
   "execution_count": 1,
   "id": "1ba7637b-bbf5-4c60-8b71-5c76271c1185",
   "metadata": {},
   "outputs": [],
   "source": [
    "import json\n",
    "import os\n",
    "from pathlib import Path\n",
    "import asyncio\n",
    "\n",
    "import duckdb\n",
    "import requests\n",
    "import nest_asyncio\n"
   ]
  },
  {
   "cell_type": "code",
   "execution_count": 2,
   "id": "a2ca8dc2-2840-48d6-b32a-f28bc9145582",
   "metadata": {},
   "outputs": [],
   "source": [
    "#Asyncio versiopn, not working due to problems with aiohttp\n",
    "\n",
    "nest_asyncio.apply()\n",
    "\n",
    "async def fetch_movie_details(movie_name: str, api_key: str) -> dict:\n",
    "    return await requests.get(f\"https://www.omdbapi.com/?t={movie_name}&apikey=6a6418c2\").json()\n",
    "    \n",
    "\n",
    "async def read_movies_details_async(movies, api_key):\n",
    "    tasks = [asyncio.ensure_future(fetch_movie_details(movie, api_key)) for movie in movies]\n",
    "    return await asyncio.gather(*tasks)\n",
    "\n",
    "def read_movies_details(movies, api_key):\n",
    "    return asyncio.run(read_movies_details_async(movies, api_key))\n"
   ]
  },
  {
   "cell_type": "code",
   "execution_count": 3,
   "id": "2066944d-614a-4a85-9834-42e5edf68e58",
   "metadata": {},
   "outputs": [],
   "source": [
    "def fetch_movie_details(movie_name: str, api_key: str) -> dict:\n",
    "    url = f\"https://www.omdbapi.com/?t={movie_name}&apikey=6a6418c2\"\n",
    "    response = requests.get(url).json()\n",
    "    response[\"request_url\"]=url.rsplit(\"&apikey=\")[0]\n",
    "    return response\n",
    "\n",
    "def read_movies_details(movies, api_key: str) ->list[dict]:\n",
    "    output = []\n",
    "    for m in movies:\n",
    "        response = fetch_movie_details(m, api_key)\n",
    "        if response.get(\"Response\")==\"True\":\n",
    "            output.append(response)\n",
    "    return output"
   ]
  },
  {
   "cell_type": "code",
   "execution_count": null,
   "id": "08fcedb3-6c27-4c3c-b303-2fff2f52f33d",
   "metadata": {
    "scrolled": true
   },
   "outputs": [],
   "source": [
    "def save_json_file(path: str, json_content: dict) -> None:\n",
    "    output_file = Path(path)\n",
    "    output_file.parent.mkdir(exist_ok=True, parents=True)\n",
    "    with output_file.open('w') as f:\n",
    "        json.dump(json_content, f, indent=4)\n",
    "\n",
    "\n",
    "def filter_movies(movies: list[str], movies_existing: list[str]) -> list[str]:\n",
    "    return list(set(movies) - set(movies_existing))\n",
    "\n",
    "\n",
    "\n",
    "movies = [m[0] for m in duckdb.sql(\"SELECT DISTINCT title from 'data/landing_zone/revenues_per_day.csv'\").fetchall()]\n",
    "movies_details_file = Path('data/landing_zone/movies_details.json')\n",
    "if movies_details_file.is_file():\n",
    "    with open('data/landing_zone/movies_details.json', \"r\") as f:\n",
    "        existing_movies = json.loads(f.read()) or []\n",
    "else: \n",
    "    existing_movies = []\n",
    "movies_to_read = filter_movies(movies, [m['Title'] for m in existing_movies])\n",
    "data = read_movies_details(movies_to_read, \"6a6418c2\")\n",
    "\n",
    "save_json_file('data/landing_zone/movies_details.json', existing_movies+data)"
   ]
  }
 ],
 "metadata": {
  "kernelspec": {
   "display_name": "Python 3 (ipykernel)",
   "language": "python",
   "name": "python3"
  },
  "language_info": {
   "codemirror_mode": {
    "name": "ipython",
    "version": 3
   },
   "file_extension": ".py",
   "mimetype": "text/x-python",
   "name": "python",
   "nbconvert_exporter": "python",
   "pygments_lexer": "ipython3",
   "version": "3.10.12"
  }
 },
 "nbformat": 4,
 "nbformat_minor": 5
}
